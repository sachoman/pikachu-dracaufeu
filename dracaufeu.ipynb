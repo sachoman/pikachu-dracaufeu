{
 "cells": [
  {
   "cell_type": "markdown",
   "metadata": {},
   "source": [
    "# Désobfuscation du PowerShell\n",
    "\n",
    "On a désobfusqué le PowerShell en utuilisant python, en réécrivant les variables et le script"
   ]
  },
  {
   "cell_type": "code",
   "execution_count": 22,
   "metadata": {},
   "outputs": [
    {
     "name": "stdout",
     "output_type": "stream",
     "text": [
      "[System.Diagnostics.Process]::GetCurrentProcess() | . Select-Object-ExpandProperty ID\n"
     ]
    }
   ],
   "source": [
    "# On remets toutes les variables utilisées\n",
    "var_dQRWGpP=83\n",
    "var_m83ytj3=101\n",
    "var_JZbPRdx=108\n",
    "var_2bGFs0n=99\n",
    "var_IB7a8ZE=116\n",
    "var_4JNB57M=45\n",
    "var_WdlS4IE=79\n",
    "var_7RCpZcf=98\n",
    "var_vqEpUU1=106\n",
    "var_9lW0iqg=71\n",
    "var_BmmmmZl=87\n",
    "var_yIaqt4f=109\n",
    "var_hD0mE1u=105\n",
    "var_v6toWZf=120\n",
    "var_3Mk19cu=49\n",
    "var_Ybe2ueL=43\n",
    "var_pOFj7MC=51\n",
    "var_G3WdcJX=0\n",
    "var_WtUReU3=8\n",
    "var_Cl0KEnn=23\n",
    "var_fmKyDnj=4\n",
    "var_BndBQNw=88\n",
    "var_TqzS5S5=41\n",
    "var_YnjQuXN=16\n",
    "var_YLUW40K=1\n",
    "var_qVWLerF=94\n",
    "var_zvAxZf5=12\n",
    "var_6GmjwOb=80\n",
    "var_KDIAD6V=114\n",
    "var_9GveMwq=111\n",
    "var_G7EUYfF=115\n",
    "var_A6dkVH0=78\n",
    "var_VJgdIv9=97\n",
    "var_UqZ8QWd=117\n",
    "var_xxoESSt=112\n",
    "var_zr8KNJC=102\n",
    "var_l20rjA9=110\n",
    "var_1OTzqiy=32\n",
    "var_6iWzL9I=40\n",
    "var_TKZvI17=36\n",
    "var_YuGQJOr=44\n",
    "var_u49DQDf=107\n",
    "var_Ai8VfwJ=123\n",
    "var_6W8EWAf=61\n",
    "var_WcMv5Ve=119\n",
    "var_SDR6Leb=121\n",
    "var_JX9l8Ad=46\n",
    "var_8TpJ1U6=67\n",
    "var_5zXgGI9=76\n",
    "var_BR44MnX=91\n",
    "var_SjKUbrN=93\n",
    "var_GMM0VAk=59\n",
    "var_9hKyK1w=48\n",
    "var_5CCRyVN=65\n",
    "var_FL9a7vL=100\n",
    "var_v3OZPNF=104\n",
    "var_OeRF5lQ=125\n",
    "var_hyeGZZS=84\n",
    "var_PKAOYmh=33\n",
    "var_QCZYyAR=chr(var_dQRWGpP)+chr(var_m83ytj3)+chr(var_JZbPRdx)+chr(var_m83ytj3)+chr(var_2bGFs0n)+chr(var_IB7a8ZE)+chr(var_4JNB57M)+chr(var_WdlS4IE)+chr(var_7RCpZcf)+chr(var_vqEpUU1)+chr(var_m83ytj3)+chr(var_2bGFs0n)+chr(var_IB7a8ZE)\n",
    "var_5sqiujS=chr(var_9lW0iqg)+chr(var_m83ytj3)+chr(var_IB7a8ZE)+chr(var_4JNB57M)+chr(var_BmmmmZl)+chr(var_yIaqt4f)+chr(var_hD0mE1u)+chr(var_WdlS4IE)+chr(var_7RCpZcf)+chr(var_vqEpUU1)+chr(var_m83ytj3)+chr(var_2bGFs0n)+chr(var_IB7a8ZE)\n",
    "var_GoU0UFd=chr(var_9lW0iqg)+chr(var_m83ytj3)+chr(var_IB7a8ZE)+chr(var_4JNB57M)+chr(var_BmmmmZl)+chr(var_yIaqt4f)+chr(var_hD0mE1u)+chr(var_WdlS4IE)+chr(var_7RCpZcf)+chr(var_vqEpUU1)+chr(var_m83ytj3)+chr(var_2bGFs0n)+chr(var_IB7a8ZE)\n",
    "var_WdrZONR=chr(var_hD0mE1u)+chr(var_m83ytj3)+chr(var_v6toWZf)\n",
    "var_KOEurzh=chr(var_BmmmmZl)+chr(var_KDIAD6V)+chr(var_hD0mE1u)+chr(var_IB7a8ZE)+chr(var_m83ytj3)+chr(var_4JNB57M)+chr(var_WdlS4IE)+chr(var_UqZ8QWd)+chr(var_IB7a8ZE)+chr(var_xxoESSt)+chr(var_UqZ8QWd)+chr(var_IB7a8ZE)\n",
    "# On récupère l'id du processus courant\n",
    "var_id = \"[System.Diagnostics.Process]::GetCurrentProcess() | . \" + var_QCZYyAR + \"-ExpandProperty ID\"\n",
    "print(var_id)\n"
   ]
  },
  {
   "cell_type": "code",
   "execution_count": 3,
   "metadata": {},
   "outputs": [
    {
     "name": "stdout",
     "output_type": "stream",
     "text": [
      "var_dQRWGpQ = . Get-WmiObjectWin32_Process -Filter \"ProcessId = 'var_id'\"\n",
      "var_dQRWGpQ = . Get-WmiObjectWin32_Process -Filter \"ProcessId = 'var_(var_dQRWGpQ.ParentProcessId)'\"\n"
     ]
    }
   ],
   "source": [
    "# 1ère cmdlet -> on récupère les infos du processus courant (via l'id récupéré précédemment)\n",
    "var_dQRWGpQ =  var_5sqiujS + \"Win32_Process -Filter \\\"ProcessId = '\" + 'var_id' + \"'\\\"\"\n",
    "print(\"var_dQRWGpQ = . \"+ var_dQRWGpQ)\n",
    "# 2ème cmdlet -> on récupère les infos du processus parent\n",
    "var_dQRWGpQ =  var_GoU0UFd + \"Win32_Process -Filter \\\"ProcessId = 'var_(\" + \"var_dQRWGpQ\" + \".ParentProcessId)'\\\"\"\n",
    "print(\"var_dQRWGpQ = . \"+ var_dQRWGpQ)"
   ]
  },
  {
   "cell_type": "code",
   "execution_count": 24,
   "metadata": {},
   "outputs": [
    {
     "name": "stdout",
     "output_type": "stream",
     "text": [
      " . iexfunction 1+1($b, $k) {$n = New-Object System.Collections.Generic.List[System.Object];for ($i = 0; $i -lt $b.Count; $i++) {$n.Add([char]($b[$i] -bxor $k[$i]))} return -join $n.ToArray();}\n",
      ".1+1 @(51,0,8,23,4,88,41,16,1,94,16,12) $dQRWGpQ.ProcessName\n"
     ]
    }
   ],
   "source": [
    "# On définit un alias pour la cmdlet 1+1 -> cette comdlet xor les paramètres $b et $k entre eux\n",
    "cmd4 = \" . \" + str(var_WdrZONR) + chr(var_zr8KNJC)+chr(var_UqZ8QWd)+chr(var_l20rjA9)+chr(var_2bGFs0n)+chr(var_IB7a8ZE)+chr(var_hD0mE1u)+chr(var_9GveMwq)+chr(var_l20rjA9)+chr(var_1OTzqiy)+chr(var_3Mk19cu)+chr(var_Ybe2ueL)+chr(var_3Mk19cu)+chr(var_6iWzL9I)+chr(var_TKZvI17)+chr(var_7RCpZcf)+chr(var_YuGQJOr)+chr(var_1OTzqiy)+chr(var_TKZvI17)+chr(var_u49DQDf)+chr(var_TqzS5S5)+chr(var_1OTzqiy)+chr(var_Ai8VfwJ)+chr(var_TKZvI17)+chr(var_l20rjA9)+chr(var_1OTzqiy)+chr(var_6W8EWAf)+chr(var_1OTzqiy)+chr(var_A6dkVH0)+chr(var_m83ytj3)+chr(var_WcMv5Ve)+chr(var_4JNB57M)+chr(var_WdlS4IE)+chr(var_7RCpZcf)+chr(var_vqEpUU1)+chr(var_m83ytj3)+chr(var_2bGFs0n)+chr(var_IB7a8ZE)+chr(var_1OTzqiy)+chr(var_dQRWGpP)+chr(var_SDR6Leb)+chr(var_G7EUYfF)+chr(var_IB7a8ZE)+chr(var_m83ytj3)+chr(var_yIaqt4f)+chr(var_JX9l8Ad)+chr(var_8TpJ1U6)+chr(var_9GveMwq)+chr(var_JZbPRdx)+chr(var_JZbPRdx)+chr(var_m83ytj3)+chr(var_2bGFs0n)+chr(var_IB7a8ZE)+chr(var_hD0mE1u)+chr(var_9GveMwq)+chr(var_l20rjA9)+chr(var_G7EUYfF)+chr(var_JX9l8Ad)+chr(var_9lW0iqg)+chr(var_m83ytj3)+chr(var_l20rjA9)+chr(var_m83ytj3)+chr(var_KDIAD6V)+chr(var_hD0mE1u)+chr(var_2bGFs0n)+chr(var_JX9l8Ad)+chr(var_5zXgGI9)+chr(var_hD0mE1u)+chr(var_G7EUYfF)+chr(var_IB7a8ZE)+chr(var_BR44MnX)+chr(var_dQRWGpP)+chr(var_SDR6Leb)+chr(var_G7EUYfF)+chr(var_IB7a8ZE)+chr(var_m83ytj3)+chr(var_yIaqt4f)+chr(var_JX9l8Ad)+chr(var_WdlS4IE)+chr(var_7RCpZcf)+chr(var_vqEpUU1)+chr(var_m83ytj3)+chr(var_2bGFs0n)+chr(var_IB7a8ZE)+chr(var_SjKUbrN)+chr(var_GMM0VAk)+chr(var_zr8KNJC)+chr(var_9GveMwq)+chr(var_KDIAD6V)+chr(var_1OTzqiy)+chr(var_6iWzL9I)+chr(var_TKZvI17)+chr(var_hD0mE1u)+chr(var_1OTzqiy)+chr(var_6W8EWAf)+chr(var_1OTzqiy)+chr(var_9hKyK1w)+chr(var_GMM0VAk)+chr(var_1OTzqiy)+chr(var_TKZvI17)+chr(var_hD0mE1u)+chr(var_1OTzqiy)+chr(var_4JNB57M)+chr(var_JZbPRdx)+chr(var_IB7a8ZE)+chr(var_1OTzqiy)+chr(var_TKZvI17)+chr(var_7RCpZcf)+chr(var_JX9l8Ad)+chr(var_8TpJ1U6)+chr(var_9GveMwq)+chr(var_UqZ8QWd)+chr(var_l20rjA9)+chr(var_IB7a8ZE)+chr(var_GMM0VAk)+chr(var_1OTzqiy)+chr(var_TKZvI17)+chr(var_hD0mE1u)+chr(var_Ybe2ueL)+chr(var_Ybe2ueL)+chr(var_TqzS5S5)+chr(var_1OTzqiy)+chr(var_Ai8VfwJ)+chr(var_TKZvI17)+chr(var_l20rjA9)+chr(var_JX9l8Ad)+chr(var_5CCRyVN)+chr(var_FL9a7vL)+chr(var_FL9a7vL)+chr(var_6iWzL9I)+chr(var_BR44MnX)+chr(var_2bGFs0n)+chr(var_v3OZPNF)+chr(var_VJgdIv9)+chr(var_KDIAD6V)+chr(var_SjKUbrN)+chr(var_6iWzL9I)+chr(var_TKZvI17)+chr(var_7RCpZcf)+chr(var_BR44MnX)+chr(var_TKZvI17)+chr(var_hD0mE1u)+chr(var_SjKUbrN)+chr(var_1OTzqiy)+chr(var_4JNB57M)+chr(var_7RCpZcf)+chr(var_v6toWZf)+chr(var_9GveMwq)+chr(var_KDIAD6V)+chr(var_1OTzqiy)+chr(var_TKZvI17)+chr(var_u49DQDf)+chr(var_BR44MnX)+chr(var_TKZvI17)+chr(var_hD0mE1u)+chr(var_SjKUbrN)+chr(var_TqzS5S5)+chr(var_TqzS5S5)+chr(var_OeRF5lQ)+chr(var_1OTzqiy)+chr(var_KDIAD6V)+chr(var_m83ytj3)+chr(var_IB7a8ZE)+chr(var_UqZ8QWd)+chr(var_KDIAD6V)+chr(var_l20rjA9)+chr(var_1OTzqiy)+chr(var_4JNB57M)+chr(var_vqEpUU1)+chr(var_9GveMwq)+chr(var_hD0mE1u)+chr(var_l20rjA9)+chr(var_1OTzqiy)+chr(var_TKZvI17)+chr(var_l20rjA9)+chr(var_JX9l8Ad)+chr(var_hyeGZZS)+chr(var_9GveMwq)+chr(var_5CCRyVN)+chr(var_KDIAD6V)+chr(var_KDIAD6V)+chr(var_VJgdIv9)+chr(var_SDR6Leb)+chr(var_6iWzL9I)+chr(var_TqzS5S5)+chr(var_GMM0VAk)+chr(var_OeRF5lQ)\n",
    "print(cmd4)\n",
    "# On applique la cmdlet précédente avec la liste @(51,0,8,23,4,88,41,16,1,94,16,12) et le nom du processus parent\n",
    "var_Wrm8EMP=\".\" + (chr(var_3Mk19cu)+chr(var_Ybe2ueL)+chr(var_3Mk19cu)) +\" @(\" + str(var_pOFj7MC)+ \",\" + str(var_G3WdcJX) + \",\" + str(var_WtUReU3)+ \",\" + str(var_Cl0KEnn)+ \",\" + str(var_fmKyDnj)+ \",\" + str(var_BndBQNw) + \",\" + str(var_TqzS5S5) + \",\" + str(var_YnjQuXN)+ \",\" + str(var_YLUW40K)+ \",\" + str(var_qVWLerF) + \",\" + str(var_YnjQuXN)+ \",\" + str(var_zvAxZf5) + \")\" + \" $dQRWGpQ\" +\".\" + (chr(var_6GmjwOb)+chr(var_KDIAD6V)+chr(var_9GveMwq)+chr(var_2bGFs0n)+chr(var_m83ytj3)+chr(var_G7EUYfF)+chr(var_G7EUYfF)+chr(var_A6dkVH0)+chr(var_VJgdIv9)+chr(var_yIaqt4f)+chr(var_m83ytj3))\n",
    "print(var_Wrm8EMP)"
   ]
  },
  {
   "cell_type": "code",
   "execution_count": 25,
   "metadata": {},
   "outputs": [
    {
     "data": {
      "text/plain": [
       "'.Write-Output(Pikachu n est pas disponible en dynamax !!!)'"
      ]
     },
     "execution_count": 25,
     "metadata": {},
     "output_type": "execute_result"
    }
   ],
   "source": [
    "# Le message d'erreur dans le catch\n",
    "\".\" + str(var_KOEurzh) + \"(\" + chr(var_6GmjwOb)+chr(var_hD0mE1u)+chr(var_u49DQDf)+chr(var_VJgdIv9)+chr(var_2bGFs0n)+chr(var_v3OZPNF)+chr(var_UqZ8QWd)+chr(var_1OTzqiy)+chr(var_l20rjA9)+chr(var_1OTzqiy)+chr(var_m83ytj3)+chr(var_G7EUYfF)+chr(var_IB7a8ZE)+chr(var_1OTzqiy)+chr(var_xxoESSt)+chr(var_VJgdIv9)+chr(var_G7EUYfF)+chr(var_1OTzqiy)+chr(var_FL9a7vL)+chr(var_hD0mE1u)+chr(var_G7EUYfF)+chr(var_xxoESSt)+chr(var_9GveMwq)+chr(var_l20rjA9)+chr(var_hD0mE1u)+chr(var_7RCpZcf)+chr(var_JZbPRdx)+chr(var_m83ytj3)+chr(var_1OTzqiy)+chr(var_m83ytj3)+chr(var_l20rjA9)+chr(var_1OTzqiy)+chr(var_FL9a7vL)+chr(var_SDR6Leb)+chr(var_l20rjA9)+chr(var_VJgdIv9)+chr(var_yIaqt4f)+chr(var_VJgdIv9)+chr(var_v6toWZf)+chr(var_1OTzqiy)+chr(var_PKAOYmh)+chr(var_PKAOYmh)+chr(var_PKAOYmh) +\")\""
   ]
  },
  {
   "cell_type": "code",
   "execution_count": 21,
   "metadata": {},
   "outputs": [
    {
     "name": "stdout",
     "output_type": "stream",
     "text": [
      "dracaufeu.ex\n"
     ]
    }
   ],
   "source": [
    "# On veut que la variable qui contient le nom du processus parnet xoré avec la liste soit Write-Output pour bien éxécuter l'affichage de l'ascii\n",
    "# Donc on fait le xor i,verse pour retrouver quel nom doit avaoir le processus parent\n",
    "final_name = \"Write-Output\"\n",
    "final_name = [ord(i) for i in final_name]\n",
    "xor_list = [51,0,8,23,4,88,41,16,1,94,16,12]\n",
    "parent_process_name = [chr(final_name[i] ^ xor_list[i]) for i in range(len(xor_list))]\n",
    "parent_process_name = \"\".join(parent_process_name)\n",
    "print(parent_process_name)\n",
    "# Rmq : il faut juste que le nom du processus parent commence par dracaufeu.ex, donc on peut renommer pikachu.exe en dracaufeu.exe et ca fonctionne\n",
    "# \/!\\ Ne pas oublier dynamax en paramètre au lancement"
   ]
  }
 ],
 "metadata": {
  "kernelspec": {
   "display_name": "Python 3",
   "language": "python",
   "name": "python3"
  },
  "language_info": {
   "codemirror_mode": {
    "name": "ipython",
    "version": 3
   },
   "file_extension": ".py",
   "mimetype": "text/x-python",
   "name": "python",
   "nbconvert_exporter": "python",
   "pygments_lexer": "ipython3",
   "version": "3.11.7"
  }
 },
 "nbformat": 4,
 "nbformat_minor": 2
}
